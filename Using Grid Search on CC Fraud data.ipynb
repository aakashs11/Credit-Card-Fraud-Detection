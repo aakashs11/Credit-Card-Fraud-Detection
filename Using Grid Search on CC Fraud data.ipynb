{
 "cells": [
  {
   "cell_type": "code",
   "execution_count": 1,
   "metadata": {},
   "outputs": [],
   "source": [
    "from sklearn.linear_model import LogisticRegression\n",
    "from sklearn.svm import SVC\n",
    "from sklearn.neighbors import KNeighborsClassifier\n",
    "from sklearn.tree import DecisionTreeClassifier\n",
    "from sklearn.ensemble import RandomForestClassifier\n",
    "import collections\n",
    "from sklearn.metrics import accuracy_score, f1_score, confusion_matrix, recall_score\n",
    "from sklearn.naive_bayes import GaussianNB\n",
    "import numpy as np\n",
    "import pandas as pd\n",
    "from sklearn.manifold import TSNE\n",
    "import tensorflow as tf\n",
    "import matplotlib.pyplot as plt\n",
    "import seaborn as sns\n",
    "from matplotlib import style\n",
    "style.use('dark_background')\n",
    "from sklearn.model_selection import train_test_split\n",
    "from sklearn.pipeline import make_pipeline\n",
    "from imblearn.pipeline import make_pipeline as imbalanced_make_pipeline\n",
    "from imblearn.over_sampling import SMOTE\n",
    "from imblearn.under_sampling import NearMiss\n",
    "from imblearn.metrics import classification_report_imbalanced\n",
    "from sklearn import metrics"
   ]
  },
  {
   "cell_type": "code",
   "execution_count": 2,
   "metadata": {},
   "outputs": [
    {
     "data": {
      "text/html": [
       "<div>\n",
       "<style scoped>\n",
       "    .dataframe tbody tr th:only-of-type {\n",
       "        vertical-align: middle;\n",
       "    }\n",
       "\n",
       "    .dataframe tbody tr th {\n",
       "        vertical-align: top;\n",
       "    }\n",
       "\n",
       "    .dataframe thead th {\n",
       "        text-align: right;\n",
       "    }\n",
       "</style>\n",
       "<table border=\"1\" class=\"dataframe\">\n",
       "  <thead>\n",
       "    <tr style=\"text-align: right;\">\n",
       "      <th></th>\n",
       "      <th>Time</th>\n",
       "      <th>V1</th>\n",
       "      <th>V2</th>\n",
       "      <th>V3</th>\n",
       "      <th>V4</th>\n",
       "      <th>V5</th>\n",
       "      <th>V6</th>\n",
       "      <th>V7</th>\n",
       "      <th>V8</th>\n",
       "      <th>V9</th>\n",
       "      <th>...</th>\n",
       "      <th>V26</th>\n",
       "      <th>V27</th>\n",
       "      <th>V28</th>\n",
       "      <th>Amount</th>\n",
       "      <th>Class</th>\n",
       "      <th>Hour</th>\n",
       "      <th>Day</th>\n",
       "      <th>amount_log</th>\n",
       "      <th>amount_scaled</th>\n",
       "      <th>amount_minmax</th>\n",
       "    </tr>\n",
       "  </thead>\n",
       "  <tbody>\n",
       "    <tr>\n",
       "      <th>0</th>\n",
       "      <td>0.000000</td>\n",
       "      <td>-1.359807</td>\n",
       "      <td>-0.072781</td>\n",
       "      <td>2.536347</td>\n",
       "      <td>1.378155</td>\n",
       "      <td>-0.338321</td>\n",
       "      <td>0.462388</td>\n",
       "      <td>0.239599</td>\n",
       "      <td>0.098698</td>\n",
       "      <td>0.363787</td>\n",
       "      <td>...</td>\n",
       "      <td>-0.189115</td>\n",
       "      <td>0.133558</td>\n",
       "      <td>-0.021053</td>\n",
       "      <td>149.62</td>\n",
       "      <td>0</td>\n",
       "      <td>0</td>\n",
       "      <td>1</td>\n",
       "      <td>5.008166</td>\n",
       "      <td>1.245932</td>\n",
       "      <td>0.343962</td>\n",
       "    </tr>\n",
       "    <tr>\n",
       "      <th>1</th>\n",
       "      <td>0.000000</td>\n",
       "      <td>1.191857</td>\n",
       "      <td>0.266151</td>\n",
       "      <td>0.166480</td>\n",
       "      <td>0.448154</td>\n",
       "      <td>0.060018</td>\n",
       "      <td>-0.082361</td>\n",
       "      <td>-0.078803</td>\n",
       "      <td>0.085102</td>\n",
       "      <td>-0.255425</td>\n",
       "      <td>...</td>\n",
       "      <td>0.125895</td>\n",
       "      <td>-0.008983</td>\n",
       "      <td>0.014724</td>\n",
       "      <td>2.69</td>\n",
       "      <td>0</td>\n",
       "      <td>0</td>\n",
       "      <td>1</td>\n",
       "      <td>0.993252</td>\n",
       "      <td>-0.649372</td>\n",
       "      <td>0.006184</td>\n",
       "    </tr>\n",
       "    <tr>\n",
       "      <th>2</th>\n",
       "      <td>0.000278</td>\n",
       "      <td>-1.358354</td>\n",
       "      <td>-1.340163</td>\n",
       "      <td>1.773209</td>\n",
       "      <td>0.379780</td>\n",
       "      <td>-0.503198</td>\n",
       "      <td>1.800499</td>\n",
       "      <td>0.791461</td>\n",
       "      <td>0.247676</td>\n",
       "      <td>-1.514654</td>\n",
       "      <td>...</td>\n",
       "      <td>-0.139097</td>\n",
       "      <td>-0.055353</td>\n",
       "      <td>-0.059752</td>\n",
       "      <td>378.66</td>\n",
       "      <td>0</td>\n",
       "      <td>0</td>\n",
       "      <td>1</td>\n",
       "      <td>5.936665</td>\n",
       "      <td>4.200403</td>\n",
       "      <td>0.870503</td>\n",
       "    </tr>\n",
       "    <tr>\n",
       "      <th>3</th>\n",
       "      <td>0.000278</td>\n",
       "      <td>-0.966272</td>\n",
       "      <td>-0.185226</td>\n",
       "      <td>1.792993</td>\n",
       "      <td>-0.863291</td>\n",
       "      <td>-0.010309</td>\n",
       "      <td>1.247203</td>\n",
       "      <td>0.237609</td>\n",
       "      <td>0.377436</td>\n",
       "      <td>-1.387024</td>\n",
       "      <td>...</td>\n",
       "      <td>-0.221929</td>\n",
       "      <td>0.062723</td>\n",
       "      <td>0.061458</td>\n",
       "      <td>123.50</td>\n",
       "      <td>0</td>\n",
       "      <td>0</td>\n",
       "      <td>1</td>\n",
       "      <td>4.816322</td>\n",
       "      <td>0.909000</td>\n",
       "      <td>0.283915</td>\n",
       "    </tr>\n",
       "    <tr>\n",
       "      <th>4</th>\n",
       "      <td>0.000556</td>\n",
       "      <td>-1.158233</td>\n",
       "      <td>0.877737</td>\n",
       "      <td>1.548718</td>\n",
       "      <td>0.403034</td>\n",
       "      <td>-0.407193</td>\n",
       "      <td>0.095921</td>\n",
       "      <td>0.592941</td>\n",
       "      <td>-0.270533</td>\n",
       "      <td>0.817739</td>\n",
       "      <td>...</td>\n",
       "      <td>0.502292</td>\n",
       "      <td>0.219422</td>\n",
       "      <td>0.215153</td>\n",
       "      <td>69.99</td>\n",
       "      <td>0</td>\n",
       "      <td>0</td>\n",
       "      <td>1</td>\n",
       "      <td>4.248495</td>\n",
       "      <td>0.218755</td>\n",
       "      <td>0.160900</td>\n",
       "    </tr>\n",
       "  </tbody>\n",
       "</table>\n",
       "<p>5 rows × 36 columns</p>\n",
       "</div>"
      ],
      "text/plain": [
       "       Time        V1        V2        V3        V4        V5        V6  \\\n",
       "0  0.000000 -1.359807 -0.072781  2.536347  1.378155 -0.338321  0.462388   \n",
       "1  0.000000  1.191857  0.266151  0.166480  0.448154  0.060018 -0.082361   \n",
       "2  0.000278 -1.358354 -1.340163  1.773209  0.379780 -0.503198  1.800499   \n",
       "3  0.000278 -0.966272 -0.185226  1.792993 -0.863291 -0.010309  1.247203   \n",
       "4  0.000556 -1.158233  0.877737  1.548718  0.403034 -0.407193  0.095921   \n",
       "\n",
       "         V7        V8        V9  ...       V26       V27       V28  Amount  \\\n",
       "0  0.239599  0.098698  0.363787  ... -0.189115  0.133558 -0.021053  149.62   \n",
       "1 -0.078803  0.085102 -0.255425  ...  0.125895 -0.008983  0.014724    2.69   \n",
       "2  0.791461  0.247676 -1.514654  ... -0.139097 -0.055353 -0.059752  378.66   \n",
       "3  0.237609  0.377436 -1.387024  ... -0.221929  0.062723  0.061458  123.50   \n",
       "4  0.592941 -0.270533  0.817739  ...  0.502292  0.219422  0.215153   69.99   \n",
       "\n",
       "   Class  Hour  Day  amount_log  amount_scaled  amount_minmax  \n",
       "0      0     0    1    5.008166       1.245932       0.343962  \n",
       "1      0     0    1    0.993252      -0.649372       0.006184  \n",
       "2      0     0    1    5.936665       4.200403       0.870503  \n",
       "3      0     0    1    4.816322       0.909000       0.283915  \n",
       "4      0     0    1    4.248495       0.218755       0.160900  \n",
       "\n",
       "[5 rows x 36 columns]"
      ]
     },
     "execution_count": 2,
     "metadata": {},
     "output_type": "execute_result"
    }
   ],
   "source": [
    "import pickle\n",
    "with open('CreditCardFraudDataCleaned.pkl', 'rb') as fileReadStream:\n",
    "    CreditCardFraudDataFromPickle = pickle.load(fileReadStream)\n",
    "    # Don't forget to close the filestream!\n",
    "    fileReadStream.close()\n",
    "    \n",
    "# Checking the data read from pickle file. It is exactly same as the DiamondPricesData\n",
    "df = CreditCardFraudDataFromPickle\n",
    "df.head()"
   ]
  },
  {
   "cell_type": "code",
   "execution_count": 3,
   "metadata": {},
   "outputs": [],
   "source": [
    "X = df.drop(['Time','Class','Hour','Day','Amount','amount_minmax','amount_scaled'],axis=1)\n",
    "y = df['Class']"
   ]
  },
  {
   "cell_type": "code",
   "execution_count": 4,
   "metadata": {},
   "outputs": [],
   "source": [
    "# TRAIN TEST SPLITS FOR BALANCED DATASET\n",
    "from sklearn.metrics import precision_score, recall_score, f1_score, roc_auc_score, accuracy_score, classification_report\n",
    "from imblearn.over_sampling import SMOTE, ADASYN\n",
    "from imblearn.under_sampling import RandomUnderSampler\n",
    "from imblearn.over_sampling import RandomOverSampler\n",
    "\n",
    "rus = RandomUnderSampler(random_state=42)\n",
    "X_under, y_under = rus.fit_resample(X, y)\n",
    "X_train_under, X_test_under, y_train_under, y_test_under = train_test_split(X_under, y_under, test_size=0.3, random_state=0)\n",
    "\n",
    "ros = RandomOverSampler(random_state=42)\n",
    "X_over, y_over = ros.fit_resample(X, y)\n",
    "X_train_over, X_test_over, y_train_over, y_test_over = train_test_split(X_over, y_over, test_size=0.3, random_state=0)\n",
    "\n",
    "smote = SMOTE(random_state=42)\n",
    "X_smote, y_smote = smote.fit_resample(X, y)\n",
    "X_train_smote, X_test_smote, y_train_smote, y_test_smote = train_test_split(X_smote, y_smote, test_size=0.3, random_state=0)\n",
    "\n",
    "adasyn = ADASYN(random_state=42)\n",
    "X_adasyn, y_adasyn = adasyn.fit_resample(X, y)\n",
    "X_train_adasyn, X_test_adasyn, y_train_adasyn, y_test_adasyn = train_test_split(X_adasyn, y_adasyn, test_size=0.3, random_state=0)"
   ]
  },
  {
   "cell_type": "markdown",
   "metadata": {},
   "source": [
    "# USING GRIDSEARCHCV TO FIND BEST HYPER-PARAMETERS"
   ]
  },
  {
   "cell_type": "code",
   "execution_count": 5,
   "metadata": {},
   "outputs": [],
   "source": [
    "from sklearn.model_selection import GridSearchCV"
   ]
  },
  {
   "cell_type": "markdown",
   "metadata": {},
   "source": [
    "## logistic regression"
   ]
  },
  {
   "cell_type": "code",
   "execution_count": 6,
   "metadata": {},
   "outputs": [
    {
     "name": "stdout",
     "output_type": "stream",
     "text": [
      "Logistic Regression best estimator : \n",
      " LogisticRegression(C=1, max_iter=100000, solver='saga')\n",
      "\n",
      "Logistic Regression f1 Score : 0.93040\n"
     ]
    }
   ],
   "source": [
    "log_reg_params = {\"solver\": ['saga'],\n",
    "                  \"penalty\": ['l1', 'l2'], \n",
    "                  'C':  [0.01, 0.1, 1, 10, 100], \n",
    "                  \"max_iter\" : [100000]},\n",
    "\n",
    "grid_log_reg = GridSearchCV(LogisticRegression(), log_reg_params)\n",
    "\n",
    "grid_log_reg.fit(X_train_under,y_train_under)\n",
    "\n",
    "#best estimator\n",
    "print(\"Logistic Regression best estimator : \\n\",grid_log_reg.best_estimator_)\n",
    "#predict\n",
    "y_pred_lr = grid_log_reg.predict(X_test_under)\n",
    "#print score\n",
    "print('\\nLogistic Regression f1 Score : {0:0.5f}'.format(metrics.f1_score(y_test_under , y_pred_lr)))"
   ]
  },
  {
   "cell_type": "markdown",
   "metadata": {},
   "source": [
    "## KNN"
   ]
  },
  {
   "cell_type": "code",
   "execution_count": 7,
   "metadata": {},
   "outputs": [
    {
     "name": "stdout",
     "output_type": "stream",
     "text": [
      "KNN best estimator : \n",
      " KNeighborsClassifier(n_neighbors=3)\n",
      "\n",
      "KNN f1 Score : 0.93333\n"
     ]
    }
   ],
   "source": [
    "knears_params = {\"n_neighbors\": list(range(2,60,1)), \n",
    "                 'algorithm': ['auto', 'ball_tree', 'kd_tree', 'brute']}\n",
    "\n",
    "grid_knears = GridSearchCV(KNeighborsClassifier(), knears_params)\n",
    "\n",
    "grid_knears.fit(X_train_under,y_train_under)\n",
    "\n",
    "# KNears best estimator\n",
    "print(\"KNN best estimator : \\n\",grid_knears.best_estimator_)\n",
    "\n",
    "# predict test dataset\n",
    "y_pred_knn = grid_knears.predict(X_test_under)\n",
    "\n",
    "# f1 score\n",
    "print('\\nKNN f1 Score : {0:0.5f}'.format(metrics.f1_score(y_test_under , y_pred_knn)))"
   ]
  },
  {
   "cell_type": "markdown",
   "metadata": {},
   "source": [
    "## SVC"
   ]
  },
  {
   "cell_type": "code",
   "execution_count": 8,
   "metadata": {},
   "outputs": [
    {
     "name": "stdout",
     "output_type": "stream",
     "text": [
      "SVC best estimator : \n",
      " SVC(C=0.5, kernel='linear')\n",
      "\n",
      "SVC f1 Score : 0.93727\n"
     ]
    }
   ],
   "source": [
    "svc_params = {'C': [0.5, 0.7, 0.9, 1], \n",
    "              'kernel': ['rbf', 'poly', 'sigmoid', 'linear']}\n",
    "\n",
    "grid_svc = GridSearchCV(SVC(), svc_params)\n",
    "grid_svc.fit(X_train_under,y_train_under)\n",
    "\n",
    "# SVC best estimator\n",
    "print(\"SVC best estimator : \\n\",grid_svc.best_estimator_)\n",
    "\n",
    "# predict test dataset\n",
    "y_pred_svc = grid_svc.predict(X_test_under)\n",
    "\n",
    "# f1 score\n",
    "print('\\nSVC f1 Score : {0:0.5f}'.format(metrics.f1_score(y_test_under , y_pred_svc)))"
   ]
  },
  {
   "cell_type": "markdown",
   "metadata": {},
   "source": [
    "## Decision tree"
   ]
  },
  {
   "cell_type": "code",
   "execution_count": 9,
   "metadata": {},
   "outputs": [
    {
     "name": "stdout",
     "output_type": "stream",
     "text": [
      "Fitting 5 folds for each of 8 candidates, totalling 40 fits\n"
     ]
    },
    {
     "name": "stderr",
     "output_type": "stream",
     "text": [
      "[Parallel(n_jobs=-1)]: Using backend LokyBackend with 12 concurrent workers.\n"
     ]
    },
    {
     "name": "stdout",
     "output_type": "stream",
     "text": [
      "Decision Tree best estimator : \n",
      " DecisionTreeClassifier(max_depth=2, min_samples_leaf=5)\n",
      "\n",
      "f1 Score : 0.90714\n"
     ]
    },
    {
     "name": "stderr",
     "output_type": "stream",
     "text": [
      "[Parallel(n_jobs=-1)]: Done  40 out of  40 | elapsed:    2.0s finished\n"
     ]
    }
   ],
   "source": [
    "tree_params = {\"criterion\": [\"gini\", \"entropy\"], \n",
    "               \"max_depth\": list(range(2,4,1)), \n",
    "               \"min_samples_leaf\": list(range(5,7,1))}\n",
    "\n",
    "grid_tree = GridSearchCV(estimator = DecisionTreeClassifier(),\n",
    "                        param_grid = tree_params,\n",
    "                        scoring = 'accuracy', \n",
    "                        cv = 5, \n",
    "                        verbose = 1,\n",
    "                        n_jobs = -1)\n",
    "\n",
    "\n",
    "grid_tree.fit(X_train_under,y_train_under)\n",
    "\n",
    "# tree best estimator\n",
    "print(\"Decision Tree best estimator : \\n\",grid_tree.best_estimator_)\n",
    "\n",
    "# predict test dataset\n",
    "y_pred_dt = grid_tree.predict(X_test_under)\n",
    "\n",
    "\n",
    "# f1 score\n",
    "print('\\nf1 Score : {0:0.5f}'.format(metrics.f1_score(y_test_under , y_pred_dt)))"
   ]
  },
  {
   "cell_type": "code",
   "execution_count": null,
   "metadata": {},
   "outputs": [],
   "source": []
  }
 ],
 "metadata": {
  "kernelspec": {
   "display_name": "Python 3.7.6 64-bit ('base': conda)",
   "language": "python",
   "name": "python37664bitbaseconda149001a28adf404aa2405b7b6fbf039d"
  },
  "language_info": {
   "codemirror_mode": {
    "name": "ipython",
    "version": 3
   },
   "file_extension": ".py",
   "mimetype": "text/x-python",
   "name": "python",
   "nbconvert_exporter": "python",
   "pygments_lexer": "ipython3",
   "version": "3.7.6"
  },
  "toc": {
   "base_numbering": 1,
   "nav_menu": {},
   "number_sections": true,
   "sideBar": true,
   "skip_h1_title": false,
   "title_cell": "Table of Contents",
   "title_sidebar": "Contents",
   "toc_cell": false,
   "toc_position": {},
   "toc_section_display": true,
   "toc_window_display": false
  }
 },
 "nbformat": 4,
 "nbformat_minor": 4
}
